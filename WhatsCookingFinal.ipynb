{
  "nbformat": 4,
  "nbformat_minor": 0,
  "metadata": {
    "colab": {
      "name": "WhatsCookingFinal.ipynb",
      "provenance": [],
      "collapsed_sections": [],
      "machine_shape": "hm"
    },
    "kernelspec": {
      "name": "python3",
      "display_name": "Python 3"
    }
  },
  "cells": [
    {
      "cell_type": "markdown",
      "metadata": {
        "id": "WK5pJMnGqFp0",
        "colab_type": "text"
      },
      "source": [
        "##***What's Cooking***"
      ]
    },
    {
      "cell_type": "markdown",
      "metadata": {
        "id": "9dg2VCMdqSVA",
        "colab_type": "text"
      },
      "source": [
        "**Problem Definition**\n",
        "\n",
        "Predict the category of a dish's cuisine given a list of its ingredients. "
      ]
    },
    {
      "cell_type": "markdown",
      "metadata": {
        "id": "l7JovOsfqVvt",
        "colab_type": "text"
      },
      "source": [
        "## **Adding our libraries**"
      ]
    },
    {
      "cell_type": "code",
      "metadata": {
        "id": "hXCZhfbsOGUx",
        "colab_type": "code",
        "outputId": "e1c28ee0-6181-47b7-a5aa-292d006e9dfa",
        "colab": {
          "base_uri": "https://localhost:8080/",
          "height": 72
        }
      },
      "source": [
        "import numpy as np\n",
        "from matplotlib import pyplot as plt\n",
        "import pandas as pd\n",
        "import seaborn as sns  # for nicer plots\n",
        "sns.set(style=\"darkgrid\")  # default style\n",
        "import plotly.graph_objs as plotly  # for interactive plots\n",
        "import string\n",
        "import random\n",
        "import tensorflow as tf\n",
        "from tensorflow import keras\n",
        "from keras import metrics\n",
        "from keras.utils import to_categorical\n",
        "from collections import Counter\n",
        "from keras.preprocessing.text import Tokenizer\n",
        "from sklearn.model_selection import train_test_split\n",
        "from sklearn.metrics import confusion_matrix, classification_report\n",
        "import json"
      ],
      "execution_count": 2,
      "outputs": [
        {
          "output_type": "stream",
          "text": [
            "/usr/local/lib/python3.6/dist-packages/statsmodels/tools/_testing.py:19: FutureWarning: pandas.util.testing is deprecated. Use the functions in the public API at pandas.testing instead.\n",
            "  import pandas.util.testing as tm\n",
            "Using TensorFlow backend.\n"
          ],
          "name": "stderr"
        }
      ]
    },
    {
      "cell_type": "markdown",
      "metadata": {
        "id": "bLwCD1vVqdfi",
        "colab_type": "text"
      },
      "source": [
        "**Loading the data**"
      ]
    },
    {
      "cell_type": "code",
      "metadata": {
        "id": "egv6F-uGOJGX",
        "colab_type": "code",
        "outputId": "38f3239d-7c4a-4a47-ecf5-cf7ce9eaaeef",
        "colab": {
          "resources": {
            "http://localhost:8080/nbextensions/google.colab/files.js": {
              "data": "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",
              "ok": true,
              "headers": [
                [
                  "content-type",
                  "application/javascript"
                ]
              ],
              "status": 200,
              "status_text": "OK"
            }
          },
          "base_uri": "https://localhost:8080/",
          "height": 77
        }
      },
      "source": [
        "from google.colab import files\n",
        "\n",
        "# Get a list of the csv files that have been uploaded into your colab\n",
        "# environment.\n",
        "json_uploaded = !ls *.json\n",
        "\n",
        "# If the metadata file is not already in the colab enviroment, load it\n",
        "if ('train.json' not in json_uploaded):\n",
        "  uploaded = files.upload()"
      ],
      "execution_count": 3,
      "outputs": [
        {
          "output_type": "display_data",
          "data": {
            "text/html": [
              "\n",
              "     <input type=\"file\" id=\"files-7925f1bc-bebe-4d15-87ad-7282628ef888\" name=\"files[]\" multiple disabled />\n",
              "     <output id=\"result-7925f1bc-bebe-4d15-87ad-7282628ef888\">\n",
              "      Upload widget is only available when the cell has been executed in the\n",
              "      current browser session. Please rerun this cell to enable.\n",
              "      </output>\n",
              "      <script src=\"/nbextensions/google.colab/files.js\"></script> "
            ],
            "text/plain": [
              "<IPython.core.display.HTML object>"
            ]
          },
          "metadata": {
            "tags": []
          }
        },
        {
          "output_type": "stream",
          "text": [
            "Saving train.json to train (1).json\n"
          ],
          "name": "stdout"
        }
      ]
    },
    {
      "cell_type": "code",
      "metadata": {
        "id": "L1KyumfYOLL1",
        "colab_type": "code",
        "outputId": "715bcf63-e871-4e59-abb5-8c1e394a2352",
        "colab": {
          "resources": {
            "http://localhost:8080/nbextensions/google.colab/files.js": {
              "data": "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",
              "ok": true,
              "headers": [
                [
                  "content-type",
                  "application/javascript"
                ]
              ],
              "status": 200,
              "status_text": "OK"
            }
          },
          "base_uri": "https://localhost:8080/",
          "height": 77
        }
      },
      "source": [
        "if ('test.json' not in json_uploaded):\n",
        "  uploaded = files.upload()"
      ],
      "execution_count": 4,
      "outputs": [
        {
          "output_type": "display_data",
          "data": {
            "text/html": [
              "\n",
              "     <input type=\"file\" id=\"files-d5f1e1f5-7393-4d3e-91da-4bb2c3d4b367\" name=\"files[]\" multiple disabled />\n",
              "     <output id=\"result-d5f1e1f5-7393-4d3e-91da-4bb2c3d4b367\">\n",
              "      Upload widget is only available when the cell has been executed in the\n",
              "      current browser session. Please rerun this cell to enable.\n",
              "      </output>\n",
              "      <script src=\"/nbextensions/google.colab/files.js\"></script> "
            ],
            "text/plain": [
              "<IPython.core.display.HTML object>"
            ]
          },
          "metadata": {
            "tags": []
          }
        },
        {
          "output_type": "stream",
          "text": [
            "Saving test.json to test (1).json\n"
          ],
          "name": "stdout"
        }
      ]
    },
    {
      "cell_type": "code",
      "metadata": {
        "id": "9ox5dKIdq2HL",
        "colab_type": "code",
        "colab": {
          "base_uri": "https://localhost:8080/",
          "height": 886
        },
        "outputId": "7818bc88-9d3c-4e04-a102-ad3f405fa60d"
      },
      "source": [
        "test_data = pd.read_json('test.json')\n",
        "\n",
        "train_data = pd.read_json('train.json')\n",
        "print(\"Test Data: \")\n",
        "display(test_data)\n",
        "print()\n",
        "print(\"Train Data: \")\n",
        "display(train_data)"
      ],
      "execution_count": 62,
      "outputs": [
        {
          "output_type": "stream",
          "text": [
            "Test Data: \n"
          ],
          "name": "stdout"
        },
        {
          "output_type": "display_data",
          "data": {
            "text/html": [
              "<div>\n",
              "<style scoped>\n",
              "    .dataframe tbody tr th:only-of-type {\n",
              "        vertical-align: middle;\n",
              "    }\n",
              "\n",
              "    .dataframe tbody tr th {\n",
              "        vertical-align: top;\n",
              "    }\n",
              "\n",
              "    .dataframe thead th {\n",
              "        text-align: right;\n",
              "    }\n",
              "</style>\n",
              "<table border=\"1\" class=\"dataframe\">\n",
              "  <thead>\n",
              "    <tr style=\"text-align: right;\">\n",
              "      <th></th>\n",
              "      <th>id</th>\n",
              "      <th>ingredients</th>\n",
              "    </tr>\n",
              "  </thead>\n",
              "  <tbody>\n",
              "    <tr>\n",
              "      <th>0</th>\n",
              "      <td>18009</td>\n",
              "      <td>[baking powder, eggs, all-purpose flour, raisi...</td>\n",
              "    </tr>\n",
              "    <tr>\n",
              "      <th>1</th>\n",
              "      <td>28583</td>\n",
              "      <td>[sugar, egg yolks, corn starch, cream of tarta...</td>\n",
              "    </tr>\n",
              "    <tr>\n",
              "      <th>2</th>\n",
              "      <td>41580</td>\n",
              "      <td>[sausage links, fennel bulb, fronds, olive oil...</td>\n",
              "    </tr>\n",
              "    <tr>\n",
              "      <th>3</th>\n",
              "      <td>29752</td>\n",
              "      <td>[meat cuts, file powder, smoked sausage, okra,...</td>\n",
              "    </tr>\n",
              "    <tr>\n",
              "      <th>4</th>\n",
              "      <td>35687</td>\n",
              "      <td>[ground black pepper, salt, sausage casings, l...</td>\n",
              "    </tr>\n",
              "    <tr>\n",
              "      <th>...</th>\n",
              "      <td>...</td>\n",
              "      <td>...</td>\n",
              "    </tr>\n",
              "    <tr>\n",
              "      <th>9939</th>\n",
              "      <td>30246</td>\n",
              "      <td>[large egg yolks, fresh lemon juice, sugar, bo...</td>\n",
              "    </tr>\n",
              "    <tr>\n",
              "      <th>9940</th>\n",
              "      <td>36028</td>\n",
              "      <td>[hot sauce, butter, sweet potatoes, adobo sauc...</td>\n",
              "    </tr>\n",
              "    <tr>\n",
              "      <th>9941</th>\n",
              "      <td>22339</td>\n",
              "      <td>[black pepper, salt, parmigiano reggiano chees...</td>\n",
              "    </tr>\n",
              "    <tr>\n",
              "      <th>9942</th>\n",
              "      <td>42525</td>\n",
              "      <td>[cheddar cheese, cayenne, paprika, plum tomato...</td>\n",
              "    </tr>\n",
              "    <tr>\n",
              "      <th>9943</th>\n",
              "      <td>1443</td>\n",
              "      <td>[cold water, olive oil, lime wedges, garlic cl...</td>\n",
              "    </tr>\n",
              "  </tbody>\n",
              "</table>\n",
              "<p>9944 rows × 2 columns</p>\n",
              "</div>"
            ],
            "text/plain": [
              "         id                                        ingredients\n",
              "0     18009  [baking powder, eggs, all-purpose flour, raisi...\n",
              "1     28583  [sugar, egg yolks, corn starch, cream of tarta...\n",
              "2     41580  [sausage links, fennel bulb, fronds, olive oil...\n",
              "3     29752  [meat cuts, file powder, smoked sausage, okra,...\n",
              "4     35687  [ground black pepper, salt, sausage casings, l...\n",
              "...     ...                                                ...\n",
              "9939  30246  [large egg yolks, fresh lemon juice, sugar, bo...\n",
              "9940  36028  [hot sauce, butter, sweet potatoes, adobo sauc...\n",
              "9941  22339  [black pepper, salt, parmigiano reggiano chees...\n",
              "9942  42525  [cheddar cheese, cayenne, paprika, plum tomato...\n",
              "9943   1443  [cold water, olive oil, lime wedges, garlic cl...\n",
              "\n",
              "[9944 rows x 2 columns]"
            ]
          },
          "metadata": {
            "tags": []
          }
        },
        {
          "output_type": "stream",
          "text": [
            "\n",
            "Train Data: \n"
          ],
          "name": "stdout"
        },
        {
          "output_type": "display_data",
          "data": {
            "text/html": [
              "<div>\n",
              "<style scoped>\n",
              "    .dataframe tbody tr th:only-of-type {\n",
              "        vertical-align: middle;\n",
              "    }\n",
              "\n",
              "    .dataframe tbody tr th {\n",
              "        vertical-align: top;\n",
              "    }\n",
              "\n",
              "    .dataframe thead th {\n",
              "        text-align: right;\n",
              "    }\n",
              "</style>\n",
              "<table border=\"1\" class=\"dataframe\">\n",
              "  <thead>\n",
              "    <tr style=\"text-align: right;\">\n",
              "      <th></th>\n",
              "      <th>id</th>\n",
              "      <th>cuisine</th>\n",
              "      <th>ingredients</th>\n",
              "    </tr>\n",
              "  </thead>\n",
              "  <tbody>\n",
              "    <tr>\n",
              "      <th>0</th>\n",
              "      <td>10259</td>\n",
              "      <td>greek</td>\n",
              "      <td>[romaine lettuce, black olives, grape tomatoes...</td>\n",
              "    </tr>\n",
              "    <tr>\n",
              "      <th>1</th>\n",
              "      <td>25693</td>\n",
              "      <td>southern_us</td>\n",
              "      <td>[plain flour, ground pepper, salt, tomatoes, g...</td>\n",
              "    </tr>\n",
              "    <tr>\n",
              "      <th>2</th>\n",
              "      <td>20130</td>\n",
              "      <td>filipino</td>\n",
              "      <td>[eggs, pepper, salt, mayonaise, cooking oil, g...</td>\n",
              "    </tr>\n",
              "    <tr>\n",
              "      <th>3</th>\n",
              "      <td>22213</td>\n",
              "      <td>indian</td>\n",
              "      <td>[water, vegetable oil, wheat, salt]</td>\n",
              "    </tr>\n",
              "    <tr>\n",
              "      <th>4</th>\n",
              "      <td>13162</td>\n",
              "      <td>indian</td>\n",
              "      <td>[black pepper, shallots, cornflour, cayenne pe...</td>\n",
              "    </tr>\n",
              "    <tr>\n",
              "      <th>...</th>\n",
              "      <td>...</td>\n",
              "      <td>...</td>\n",
              "      <td>...</td>\n",
              "    </tr>\n",
              "    <tr>\n",
              "      <th>39769</th>\n",
              "      <td>29109</td>\n",
              "      <td>irish</td>\n",
              "      <td>[light brown sugar, granulated sugar, butter, ...</td>\n",
              "    </tr>\n",
              "    <tr>\n",
              "      <th>39770</th>\n",
              "      <td>11462</td>\n",
              "      <td>italian</td>\n",
              "      <td>[KRAFT Zesty Italian Dressing, purple onion, b...</td>\n",
              "    </tr>\n",
              "    <tr>\n",
              "      <th>39771</th>\n",
              "      <td>2238</td>\n",
              "      <td>irish</td>\n",
              "      <td>[eggs, citrus fruit, raisins, sourdough starte...</td>\n",
              "    </tr>\n",
              "    <tr>\n",
              "      <th>39772</th>\n",
              "      <td>41882</td>\n",
              "      <td>chinese</td>\n",
              "      <td>[boneless chicken skinless thigh, minced garli...</td>\n",
              "    </tr>\n",
              "    <tr>\n",
              "      <th>39773</th>\n",
              "      <td>2362</td>\n",
              "      <td>mexican</td>\n",
              "      <td>[green chile, jalapeno chilies, onions, ground...</td>\n",
              "    </tr>\n",
              "  </tbody>\n",
              "</table>\n",
              "<p>39774 rows × 3 columns</p>\n",
              "</div>"
            ],
            "text/plain": [
              "          id      cuisine                                        ingredients\n",
              "0      10259        greek  [romaine lettuce, black olives, grape tomatoes...\n",
              "1      25693  southern_us  [plain flour, ground pepper, salt, tomatoes, g...\n",
              "2      20130     filipino  [eggs, pepper, salt, mayonaise, cooking oil, g...\n",
              "3      22213       indian                [water, vegetable oil, wheat, salt]\n",
              "4      13162       indian  [black pepper, shallots, cornflour, cayenne pe...\n",
              "...      ...          ...                                                ...\n",
              "39769  29109        irish  [light brown sugar, granulated sugar, butter, ...\n",
              "39770  11462      italian  [KRAFT Zesty Italian Dressing, purple onion, b...\n",
              "39771   2238        irish  [eggs, citrus fruit, raisins, sourdough starte...\n",
              "39772  41882      chinese  [boneless chicken skinless thigh, minced garli...\n",
              "39773   2362      mexican  [green chile, jalapeno chilies, onions, ground...\n",
              "\n",
              "[39774 rows x 3 columns]"
            ]
          },
          "metadata": {
            "tags": []
          }
        }
      ]
    },
    {
      "cell_type": "markdown",
      "metadata": {
        "id": "Su8iQxXI3Ml_",
        "colab_type": "text"
      },
      "source": [
        "For the test data we are givin a list of ids and the corresponding ingredients for that id.\n",
        "\n",
        "For the train data we are givin the id, their cuisines, and the cuisines ingredients. "
      ]
    },
    {
      "cell_type": "markdown",
      "metadata": {
        "id": "gGzxzfnIqtW_",
        "colab_type": "text"
      },
      "source": [
        "## **Analysis**"
      ]
    },
    {
      "cell_type": "markdown",
      "metadata": {
        "id": "uKYnsq_dqvUF",
        "colab_type": "text"
      },
      "source": [
        "Printing the shapes of the train data and the test data"
      ]
    },
    {
      "cell_type": "code",
      "metadata": {
        "id": "1NfKUe3_qxLK",
        "colab_type": "code",
        "colab": {
          "base_uri": "https://localhost:8080/",
          "height": 348
        },
        "outputId": "acc062c4-64fc-40df-8211-9b49c4741f21"
      },
      "source": [
        "print(\"Train data shape: \", train_data.shape)\n",
        "print(\"Test data shape: \", test_data.shape)\n",
        "print()\n",
        "print(\"Train Data\")\n",
        "print(train_data.head())\n",
        "print()\n",
        "print(\"Test Data\")\n",
        "print(test_data.head())"
      ],
      "execution_count": 6,
      "outputs": [
        {
          "output_type": "stream",
          "text": [
            "Train data shape:  (39774, 3)\n",
            "Test data shape:  (9944, 2)\n",
            "\n",
            "Train Data\n",
            "      id      cuisine                                        ingredients\n",
            "0  10259        greek  [romaine lettuce, black olives, grape tomatoes...\n",
            "1  25693  southern_us  [plain flour, ground pepper, salt, tomatoes, g...\n",
            "2  20130     filipino  [eggs, pepper, salt, mayonaise, cooking oil, g...\n",
            "3  22213       indian                [water, vegetable oil, wheat, salt]\n",
            "4  13162       indian  [black pepper, shallots, cornflour, cayenne pe...\n",
            "\n",
            "Test Data\n",
            "      id                                        ingredients\n",
            "0  18009  [baking powder, eggs, all-purpose flour, raisi...\n",
            "1  28583  [sugar, egg yolks, corn starch, cream of tarta...\n",
            "2  41580  [sausage links, fennel bulb, fronds, olive oil...\n",
            "3  29752  [meat cuts, file powder, smoked sausage, okra,...\n",
            "4  35687  [ground black pepper, salt, sausage casings, l...\n"
          ],
          "name": "stdout"
        }
      ]
    },
    {
      "cell_type": "markdown",
      "metadata": {
        "id": "GLtHJrsmrJ2R",
        "colab_type": "text"
      },
      "source": [
        "I will create a graph so I can visually see which cuisine appears the most in \n",
        "the data set."
      ]
    },
    {
      "cell_type": "code",
      "metadata": {
        "id": "ZifsZzWyrgA6",
        "colab_type": "code",
        "colab": {
          "base_uri": "https://localhost:8080/",
          "height": 361
        },
        "outputId": "5a9cfcb5-f82b-42d2-b970-6903804c3e00"
      },
      "source": [
        "cuisine_list = train_data['cuisine']\n",
        "train_data['cuisine'].value_counts().plot(kind='bar', title = 'Cuisine Count')"
      ],
      "execution_count": 7,
      "outputs": [
        {
          "output_type": "execute_result",
          "data": {
            "text/plain": [
              "<matplotlib.axes._subplots.AxesSubplot at 0x7f96efe32b70>"
            ]
          },
          "metadata": {
            "tags": []
          },
          "execution_count": 7
        },
        {
          "output_type": "display_data",
          "data": {
            "image/png": "[encoded data removed]",
            "text/plain": [
              "<Figure size 432x288 with 1 Axes>"
            ]
          },
          "metadata": {
            "tags": []
          }
        }
      ]
    },
    {
      "cell_type": "markdown",
      "metadata": {
        "id": "8TxXRIwErpHQ",
        "colab_type": "text"
      },
      "source": [
        "It would be interesting to see the most popular ingredients for each\n",
        "cuisine to help better understand the data."
      ]
    },
    {
      "cell_type": "markdown",
      "metadata": {
        "id": "X-68yb-rxWvE",
        "colab_type": "text"
      },
      "source": [
        "First we'll need to count the occurence of each ingredient in each cuisine. "
      ]
    },
    {
      "cell_type": "code",
      "metadata": {
        "id": "EAdvpa6IxbOu",
        "colab_type": "code",
        "colab": {}
      },
      "source": [
        "ingredent_dict = {}\n",
        "for cuisine in train_data['cuisine'].unique():\n",
        "  ingredent_dict[cuisine] = Counter()\n",
        "  i = (train_data['cuisine'] == cuisine)\n",
        "  for ingredients in train_data[i]['ingredients']:\n",
        "    ingredent_dict[cuisine].update(ingredients)"
      ],
      "execution_count": 0,
      "outputs": []
    },
    {
      "cell_type": "markdown",
      "metadata": {
        "id": "7NDNF1KBxiNs",
        "colab_type": "text"
      },
      "source": [
        "Now I'll create a dataframe to display the most popular ingredients for each cuisine."
      ]
    },
    {
      "cell_type": "code",
      "metadata": {
        "id": "tHXQz0-txQYG",
        "colab_type": "code",
        "colab": {
          "base_uri": "https://localhost:8080/",
          "height": 677
        },
        "outputId": "d1c682ad-8aa7-47e5-eb37-1f79629cb962"
      },
      "source": [
        "rows = [cuisine for cuisine in ingredent_dict]\n",
        "columns = ['Ingredient{}'.format(i+1) for i in range(0,5)]\n",
        "top_ingredients_df = pd.DataFrame([[items[0] for items in ingredent_dict[cuisine].most_common(5)] for cuisine in ingredent_dict], index = rows, columns=columns)\n",
        "top_ingredients_df"
      ],
      "execution_count": 9,
      "outputs": [
        {
          "output_type": "execute_result",
          "data": {
            "text/html": [
              "<div>\n",
              "<style scoped>\n",
              "    .dataframe tbody tr th:only-of-type {\n",
              "        vertical-align: middle;\n",
              "    }\n",
              "\n",
              "    .dataframe tbody tr th {\n",
              "        vertical-align: top;\n",
              "    }\n",
              "\n",
              "    .dataframe thead th {\n",
              "        text-align: right;\n",
              "    }\n",
              "</style>\n",
              "<table border=\"1\" class=\"dataframe\">\n",
              "  <thead>\n",
              "    <tr style=\"text-align: right;\">\n",
              "      <th></th>\n",
              "      <th>Ingredient1</th>\n",
              "      <th>Ingredient2</th>\n",
              "      <th>Ingredient3</th>\n",
              "      <th>Ingredient4</th>\n",
              "      <th>Ingredient5</th>\n",
              "    </tr>\n",
              "  </thead>\n",
              "  <tbody>\n",
              "    <tr>\n",
              "      <th>greek</th>\n",
              "      <td>salt</td>\n",
              "      <td>olive oil</td>\n",
              "      <td>dried oregano</td>\n",
              "      <td>garlic cloves</td>\n",
              "      <td>feta cheese crumbles</td>\n",
              "    </tr>\n",
              "    <tr>\n",
              "      <th>southern_us</th>\n",
              "      <td>salt</td>\n",
              "      <td>butter</td>\n",
              "      <td>all-purpose flour</td>\n",
              "      <td>sugar</td>\n",
              "      <td>large eggs</td>\n",
              "    </tr>\n",
              "    <tr>\n",
              "      <th>filipino</th>\n",
              "      <td>salt</td>\n",
              "      <td>garlic</td>\n",
              "      <td>water</td>\n",
              "      <td>onions</td>\n",
              "      <td>soy sauce</td>\n",
              "    </tr>\n",
              "    <tr>\n",
              "      <th>indian</th>\n",
              "      <td>salt</td>\n",
              "      <td>onions</td>\n",
              "      <td>garam masala</td>\n",
              "      <td>water</td>\n",
              "      <td>ground turmeric</td>\n",
              "    </tr>\n",
              "    <tr>\n",
              "      <th>jamaican</th>\n",
              "      <td>salt</td>\n",
              "      <td>onions</td>\n",
              "      <td>water</td>\n",
              "      <td>garlic</td>\n",
              "      <td>ground allspice</td>\n",
              "    </tr>\n",
              "    <tr>\n",
              "      <th>spanish</th>\n",
              "      <td>salt</td>\n",
              "      <td>olive oil</td>\n",
              "      <td>garlic cloves</td>\n",
              "      <td>extra-virgin olive oil</td>\n",
              "      <td>onions</td>\n",
              "    </tr>\n",
              "    <tr>\n",
              "      <th>italian</th>\n",
              "      <td>salt</td>\n",
              "      <td>olive oil</td>\n",
              "      <td>garlic cloves</td>\n",
              "      <td>grated parmesan cheese</td>\n",
              "      <td>garlic</td>\n",
              "    </tr>\n",
              "    <tr>\n",
              "      <th>mexican</th>\n",
              "      <td>salt</td>\n",
              "      <td>onions</td>\n",
              "      <td>ground cumin</td>\n",
              "      <td>garlic</td>\n",
              "      <td>olive oil</td>\n",
              "    </tr>\n",
              "    <tr>\n",
              "      <th>chinese</th>\n",
              "      <td>soy sauce</td>\n",
              "      <td>sesame oil</td>\n",
              "      <td>salt</td>\n",
              "      <td>corn starch</td>\n",
              "      <td>sugar</td>\n",
              "    </tr>\n",
              "    <tr>\n",
              "      <th>british</th>\n",
              "      <td>salt</td>\n",
              "      <td>all-purpose flour</td>\n",
              "      <td>butter</td>\n",
              "      <td>milk</td>\n",
              "      <td>eggs</td>\n",
              "    </tr>\n",
              "    <tr>\n",
              "      <th>thai</th>\n",
              "      <td>fish sauce</td>\n",
              "      <td>garlic</td>\n",
              "      <td>salt</td>\n",
              "      <td>coconut milk</td>\n",
              "      <td>vegetable oil</td>\n",
              "    </tr>\n",
              "    <tr>\n",
              "      <th>vietnamese</th>\n",
              "      <td>fish sauce</td>\n",
              "      <td>sugar</td>\n",
              "      <td>salt</td>\n",
              "      <td>garlic</td>\n",
              "      <td>water</td>\n",
              "    </tr>\n",
              "    <tr>\n",
              "      <th>cajun_creole</th>\n",
              "      <td>salt</td>\n",
              "      <td>onions</td>\n",
              "      <td>garlic</td>\n",
              "      <td>green bell pepper</td>\n",
              "      <td>butter</td>\n",
              "    </tr>\n",
              "    <tr>\n",
              "      <th>brazilian</th>\n",
              "      <td>salt</td>\n",
              "      <td>onions</td>\n",
              "      <td>olive oil</td>\n",
              "      <td>lime</td>\n",
              "      <td>water</td>\n",
              "    </tr>\n",
              "    <tr>\n",
              "      <th>french</th>\n",
              "      <td>salt</td>\n",
              "      <td>sugar</td>\n",
              "      <td>all-purpose flour</td>\n",
              "      <td>unsalted butter</td>\n",
              "      <td>olive oil</td>\n",
              "    </tr>\n",
              "    <tr>\n",
              "      <th>japanese</th>\n",
              "      <td>soy sauce</td>\n",
              "      <td>salt</td>\n",
              "      <td>mirin</td>\n",
              "      <td>sugar</td>\n",
              "      <td>water</td>\n",
              "    </tr>\n",
              "    <tr>\n",
              "      <th>irish</th>\n",
              "      <td>salt</td>\n",
              "      <td>all-purpose flour</td>\n",
              "      <td>butter</td>\n",
              "      <td>onions</td>\n",
              "      <td>sugar</td>\n",
              "    </tr>\n",
              "    <tr>\n",
              "      <th>korean</th>\n",
              "      <td>soy sauce</td>\n",
              "      <td>sesame oil</td>\n",
              "      <td>garlic</td>\n",
              "      <td>green onions</td>\n",
              "      <td>sugar</td>\n",
              "    </tr>\n",
              "    <tr>\n",
              "      <th>moroccan</th>\n",
              "      <td>salt</td>\n",
              "      <td>olive oil</td>\n",
              "      <td>ground cumin</td>\n",
              "      <td>onions</td>\n",
              "      <td>ground cinnamon</td>\n",
              "    </tr>\n",
              "    <tr>\n",
              "      <th>russian</th>\n",
              "      <td>salt</td>\n",
              "      <td>sugar</td>\n",
              "      <td>onions</td>\n",
              "      <td>all-purpose flour</td>\n",
              "      <td>sour cream</td>\n",
              "    </tr>\n",
              "  </tbody>\n",
              "</table>\n",
              "</div>"
            ],
            "text/plain": [
              "             Ingredient1  ...           Ingredient5\n",
              "greek               salt  ...  feta cheese crumbles\n",
              "southern_us         salt  ...            large eggs\n",
              "filipino            salt  ...             soy sauce\n",
              "indian              salt  ...       ground turmeric\n",
              "jamaican            salt  ...       ground allspice\n",
              "spanish             salt  ...                onions\n",
              "italian             salt  ...                garlic\n",
              "mexican             salt  ...             olive oil\n",
              "chinese        soy sauce  ...                 sugar\n",
              "british             salt  ...                  eggs\n",
              "thai          fish sauce  ...         vegetable oil\n",
              "vietnamese    fish sauce  ...                 water\n",
              "cajun_creole        salt  ...                butter\n",
              "brazilian           salt  ...                 water\n",
              "french              salt  ...             olive oil\n",
              "japanese       soy sauce  ...                 water\n",
              "irish               salt  ...                 sugar\n",
              "korean         soy sauce  ...                 sugar\n",
              "moroccan            salt  ...       ground cinnamon\n",
              "russian             salt  ...            sour cream\n",
              "\n",
              "[20 rows x 5 columns]"
            ]
          },
          "metadata": {
            "tags": []
          },
          "execution_count": 9
        }
      ]
    },
    {
      "cell_type": "markdown",
      "metadata": {
        "id": "AReTqT1Z0aQH",
        "colab_type": "text"
      },
      "source": [
        "From this data I notice that salt is used is a top ingredient in a lot of dishes. This probably means it isn't a good classifier. I also notice that ingredients like soy sauce appear in a lot of asian dishes as well as olive oil appearing in a lot of european dishes these unique ingredients would probably be good classifiers. "
      ]
    },
    {
      "cell_type": "markdown",
      "metadata": {
        "id": "h2-_FhmWo3Fw",
        "colab_type": "text"
      },
      "source": [
        "#**Baseline**"
      ]
    },
    {
      "cell_type": "markdown",
      "metadata": {
        "id": "ZisLSIkko9FJ",
        "colab_type": "text"
      },
      "source": [
        "From the analysis I can see that italian is the most frequent cuisine. So a simple baseline would be predicting italian for every cuisine."
      ]
    },
    {
      "cell_type": "code",
      "metadata": {
        "id": "afetGAkVpGYb",
        "colab_type": "code",
        "colab": {
          "base_uri": "https://localhost:8080/",
          "height": 206
        },
        "outputId": "93f6c45c-bb35-4ee8-8245-9ea40be7bfed"
      },
      "source": [
        "baseline_df = pd.DataFrame(test_data['id'])\n",
        "baseline_df['cuisine'] = 'italian'\n",
        "baseline_df.head()\n",
        "##baseline_df.to_csv('WCbaseline.csv', index=False)\n",
        "#files.download('WCbaseline.csv')"
      ],
      "execution_count": 10,
      "outputs": [
        {
          "output_type": "execute_result",
          "data": {
            "text/html": [
              "<div>\n",
              "<style scoped>\n",
              "    .dataframe tbody tr th:only-of-type {\n",
              "        vertical-align: middle;\n",
              "    }\n",
              "\n",
              "    .dataframe tbody tr th {\n",
              "        vertical-align: top;\n",
              "    }\n",
              "\n",
              "    .dataframe thead th {\n",
              "        text-align: right;\n",
              "    }\n",
              "</style>\n",
              "<table border=\"1\" class=\"dataframe\">\n",
              "  <thead>\n",
              "    <tr style=\"text-align: right;\">\n",
              "      <th></th>\n",
              "      <th>id</th>\n",
              "      <th>cuisine</th>\n",
              "    </tr>\n",
              "  </thead>\n",
              "  <tbody>\n",
              "    <tr>\n",
              "      <th>0</th>\n",
              "      <td>18009</td>\n",
              "      <td>italian</td>\n",
              "    </tr>\n",
              "    <tr>\n",
              "      <th>1</th>\n",
              "      <td>28583</td>\n",
              "      <td>italian</td>\n",
              "    </tr>\n",
              "    <tr>\n",
              "      <th>2</th>\n",
              "      <td>41580</td>\n",
              "      <td>italian</td>\n",
              "    </tr>\n",
              "    <tr>\n",
              "      <th>3</th>\n",
              "      <td>29752</td>\n",
              "      <td>italian</td>\n",
              "    </tr>\n",
              "    <tr>\n",
              "      <th>4</th>\n",
              "      <td>35687</td>\n",
              "      <td>italian</td>\n",
              "    </tr>\n",
              "  </tbody>\n",
              "</table>\n",
              "</div>"
            ],
            "text/plain": [
              "      id  cuisine\n",
              "0  18009  italian\n",
              "1  28583  italian\n",
              "2  41580  italian\n",
              "3  29752  italian\n",
              "4  35687  italian"
            ]
          },
          "metadata": {
            "tags": []
          },
          "execution_count": 10
        }
      ]
    },
    {
      "cell_type": "markdown",
      "metadata": {
        "id": "KFEMKYSVpUO_",
        "colab_type": "text"
      },
      "source": [
        "Kaggle gives this baseline a score of 0.19267."
      ]
    },
    {
      "cell_type": "markdown",
      "metadata": {
        "id": "ioe4QW4x2Bjv",
        "colab_type": "text"
      },
      "source": [
        "#**Preprocessing**"
      ]
    },
    {
      "cell_type": "markdown",
      "metadata": {
        "id": "EbSDndmB2HWQ",
        "colab_type": "text"
      },
      "source": [
        "Training a logistic regression would be ideal for this model because we want to classify the output into a type of cuisine.  "
      ]
    },
    {
      "cell_type": "markdown",
      "metadata": {
        "id": "rfukI98x26-g",
        "colab_type": "text"
      },
      "source": [
        "### One-hot Encoding\n",
        "I will encode the data using one hot encoding. Each ingredient in each recipe will be represented as an array with a 1 at the position of the present ingredient and a 0 everywhere else. "
      ]
    },
    {
      "cell_type": "code",
      "metadata": {
        "id": "fhq1DkReOyrE",
        "colab_type": "code",
        "colab": {}
      },
      "source": [
        "cuisine_df = train_data['cuisine']\n",
        "training = train_data.drop('cuisine', axis = 1)\n",
        "testing = test_data"
      ],
      "execution_count": 0,
      "outputs": []
    },
    {
      "cell_type": "code",
      "metadata": {
        "id": "vqsiOQxsOz75",
        "colab_type": "code",
        "outputId": "50a8ef0b-2407-46a5-9c58-f611c89d91f8",
        "colab": {
          "base_uri": "https://localhost:8080/",
          "height": 146
        }
      },
      "source": [
        "ingredients_df = train_data['ingredients']\n",
        "ingredients_df = np.array(ingredients_df)\n",
        "t = Tokenizer() #allows me to turn each test into a sequence of integers\n",
        "t.fit_on_texts(train_data['ingredients'])\n",
        "ingredients_encoded = t.texts_to_matrix(train_data['ingredients'], mode='binary') #transforming data to a one hot encoded matrix\n",
        "ingredients_encoded"
      ],
      "execution_count": 12,
      "outputs": [
        {
          "output_type": "execute_result",
          "data": {
            "text/plain": [
              "array([[0., 0., 0., ..., 0., 0., 0.],\n",
              "       [0., 1., 0., ..., 0., 0., 0.],\n",
              "       [0., 1., 0., ..., 0., 0., 0.],\n",
              "       ...,\n",
              "       [0., 1., 0., ..., 0., 0., 0.],\n",
              "       [0., 0., 0., ..., 0., 0., 0.],\n",
              "       [0., 1., 1., ..., 0., 0., 0.]])"
            ]
          },
          "metadata": {
            "tags": []
          },
          "execution_count": 12
        }
      ]
    },
    {
      "cell_type": "markdown",
      "metadata": {
        "id": "DGYc_ZGf4Fd8",
        "colab_type": "text"
      },
      "source": [
        "I'll now do the same for the cuisines. "
      ]
    },
    {
      "cell_type": "code",
      "metadata": {
        "id": "v0MUiKzFO2XS",
        "colab_type": "code",
        "outputId": "64ceaab1-d8a6-4c4f-e97a-a105f9850474",
        "colab": {
          "base_uri": "https://localhost:8080/",
          "height": 146
        }
      },
      "source": [
        "cuisines_df= train_data['cuisine'].unique() #do not want dupes\n",
        "index = {cuisine:i for i, cuisine in enumerate(cuisines_df)}\n",
        "cuisines_encoded=[]\n",
        "for item in cuisine_df:\n",
        "  if item in index.keys():\n",
        "    cuisines_encoded.append(index[item])\n",
        "cuisines_encoded = to_categorical(cuisines_encoded, 20) #converts the class integers to a binary matrix\n",
        "cuisines_encoded"
      ],
      "execution_count": 14,
      "outputs": [
        {
          "output_type": "execute_result",
          "data": {
            "text/plain": [
              "array([[1., 0., 0., ..., 0., 0., 0.],\n",
              "       [0., 1., 0., ..., 0., 0., 0.],\n",
              "       [0., 0., 1., ..., 0., 0., 0.],\n",
              "       ...,\n",
              "       [0., 0., 0., ..., 0., 0., 0.],\n",
              "       [0., 0., 0., ..., 0., 0., 0.],\n",
              "       [0., 0., 0., ..., 0., 0., 0.]], dtype=float32)"
            ]
          },
          "metadata": {
            "tags": []
          },
          "execution_count": 14
        }
      ]
    },
    {
      "cell_type": "markdown",
      "metadata": {
        "id": "jp7VfpFD6L8o",
        "colab_type": "text"
      },
      "source": [
        "#**Modeling**\n",
        "\n",
        "I will use multiclass calssification since I want to classify my output into more than 2 classes. In this case 20 since I have 20 different types of cuisines. "
      ]
    },
    {
      "cell_type": "code",
      "metadata": {
        "id": "sqfMuH4hO4jV",
        "colab_type": "code",
        "colab": {}
      },
      "source": [
        "def build_model():\n",
        "  model = keras.Sequential()\n",
        "  model.add(keras.layers.Dense(256,input_shape=[ingredients_encoded.shape[1], ],activation='softmax',name='dense_layer_1'))\n",
        "  model.add(keras.layers.Dropout(0.5, name='dropout_layer_1')) #add dropout to prevent overfitting\n",
        "  model.add(keras.layers.Dense(20, name='output'))\n",
        "  model.compile(optimizer='adam',loss='categorical_hinge',metrics=['accuracy'])\n",
        "  return model\n"
      ],
      "execution_count": 0,
      "outputs": []
    },
    {
      "cell_type": "markdown",
      "metadata": {
        "id": "5oTf9KzF7uU_",
        "colab_type": "text"
      },
      "source": [
        "**Activation**\n",
        "\n",
        "I use softmax because I am doing a multiclass classifier so I needed to map non-normailized output to my predicted output of classes.\n",
        "\n",
        "**Dropout**\n",
        "\n",
        "I added dropout to prevent overfitting. What dropout does is randomly sets a random rate of inputs to 0 at each update. There wasn't a huge differnce when I trained the model with and without this so I just left it. \n",
        "\n",
        "**Loss**\n",
        "\n",
        "I chose categorical hinge loss because we already have our data encoded categorically. Also it generates the probability that any of the possibile categorical classes is the actual class.\n"
      ]
    },
    {
      "cell_type": "code",
      "metadata": {
        "id": "qIdEmqGcR68m",
        "colab_type": "code",
        "colab": {}
      },
      "source": [
        "def plot_history(history):\n",
        "  plt.ylabel('Loss')\n",
        "  plt.xlabel('Epoch')\n",
        "  plt.xticks(range(0, len(history['loss'] + 1)))\n",
        "  plt.plot(history['loss'], label=\"training\", marker='o')\n",
        "  plt.plot(history['val_loss'], label=\"validation\", marker='o')\n",
        "  plt.legend()\n",
        "  plt.show()"
      ],
      "execution_count": 0,
      "outputs": []
    },
    {
      "cell_type": "markdown",
      "metadata": {
        "id": "WZxJcTw1-pSq",
        "colab_type": "text"
      },
      "source": [
        "**Train/Test/Validation Split**\n",
        "\n",
        "Now I'll split the data into the train, test, and validation split. I will use 10% of the data for validation."
      ]
    },
    {
      "cell_type": "code",
      "metadata": {
        "id": "Cawzs1vQO-1Y",
        "colab_type": "code",
        "colab": {
          "base_uri": "https://localhost:8080/",
          "height": 146
        },
        "outputId": "d70d9943-71b4-47fc-a58a-a13c3efa9d5e"
      },
      "source": [
        "X_train,X_val,y_train,y_val=train_test_split(ingredients_encoded, cuisines_encoded, test_size=0.1,random_state=22)"
      ],
      "execution_count": 45,
      "outputs": [
        {
          "output_type": "execute_result",
          "data": {
            "text/plain": [
              "array([[0., 0., 0., ..., 0., 0., 0.],\n",
              "       [0., 0., 0., ..., 0., 0., 0.],\n",
              "       [0., 0., 0., ..., 0., 0., 0.],\n",
              "       ...,\n",
              "       [0., 1., 0., ..., 0., 0., 0.],\n",
              "       [0., 0., 0., ..., 0., 0., 0.],\n",
              "       [0., 1., 0., ..., 0., 0., 0.]])"
            ]
          },
          "metadata": {
            "tags": []
          },
          "execution_count": 45
        }
      ]
    },
    {
      "cell_type": "code",
      "metadata": {
        "id": "Z5aXxMgkPFoX",
        "colab_type": "code",
        "outputId": "30de07f8-a5a8-46ed-abf0-ea6c0e471a6f",
        "colab": {
          "base_uri": "https://localhost:8080/",
          "height": 274
        }
      },
      "source": [
        "model = build_model()\n",
        "model.summary()"
      ],
      "execution_count": 32,
      "outputs": [
        {
          "output_type": "stream",
          "text": [
            "Model: \"sequential_2\"\n",
            "_________________________________________________________________\n",
            "Layer (type)                 Output Shape              Param #   \n",
            "=================================================================\n",
            "dense_layer_1 (Dense)        (None, 256)               1716480   \n",
            "_________________________________________________________________\n",
            "dropout_layer_1 (Dropout)    (None, 256)               0         \n",
            "_________________________________________________________________\n",
            "output (Dense)               (None, 20)                5140      \n",
            "=================================================================\n",
            "Total params: 1,721,620\n",
            "Trainable params: 1,721,620\n",
            "Non-trainable params: 0\n",
            "_________________________________________________________________\n"
          ],
          "name": "stdout"
        }
      ]
    },
    {
      "cell_type": "markdown",
      "metadata": {
        "id": "MsSrbLRV-5W7",
        "colab_type": "text"
      },
      "source": [
        "My model has 1721620 total trainable parameters."
      ]
    },
    {
      "cell_type": "markdown",
      "metadata": {
        "id": "9Wyy2hHw91Nn",
        "colab_type": "text"
      },
      "source": [
        "#**Training The Model**\n"
      ]
    },
    {
      "cell_type": "code",
      "metadata": {
        "id": "qaUPbkclPHqR",
        "colab_type": "code",
        "outputId": "397e540c-9537-47b5-9406-fc95c9f37537",
        "colab": {
          "base_uri": "https://localhost:8080/",
          "height": 469
        }
      },
      "source": [
        "monitor=[\n",
        "    keras.callbacks.EarlyStopping(monitor='val_loss',patience=5,verbose=1),\n",
        "    keras.callbacks.ModelCheckpoint('best-model-0.h5',monitor='val_loss',save_best_only=True,save_weights_only=True)\n",
        "]\n",
        "history = model.fit(X_train,y_train,\n",
        "         validation_data=(X_val,y_val),\n",
        "         epochs=5,\n",
        "         callbacks=monitor,\n",
        "         batch_size=128)\n",
        "history = pd.DataFrame(history.history)\n",
        "plot_history(history)"
      ],
      "execution_count": 58,
      "outputs": [
        {
          "output_type": "stream",
          "text": [
            "Epoch 1/5\n",
            "280/280 [==============================] - 4s 16ms/step - loss: 0.4222 - accuracy: 0.7853 - val_loss: 0.5011 - val_accuracy: 0.7524\n",
            "Epoch 2/5\n",
            "280/280 [==============================] - 4s 16ms/step - loss: 0.4141 - accuracy: 0.7892 - val_loss: 0.4995 - val_accuracy: 0.7557\n",
            "Epoch 3/5\n",
            "280/280 [==============================] - 4s 16ms/step - loss: 0.4094 - accuracy: 0.7941 - val_loss: 0.4984 - val_accuracy: 0.7549\n",
            "Epoch 4/5\n",
            "280/280 [==============================] - 5s 16ms/step - loss: 0.4038 - accuracy: 0.7966 - val_loss: 0.4973 - val_accuracy: 0.7567\n",
            "Epoch 5/5\n",
            "280/280 [==============================] - 4s 16ms/step - loss: 0.4023 - accuracy: 0.7980 - val_loss: 0.4951 - val_accuracy: 0.7577\n"
          ],
          "name": "stdout"
        },
        {
          "output_type": "display_data",
          "data": {
            "image/png": "[encoded data removed]",
            "text/plain": [
              "<Figure size 432x288 with 1 Axes>"
            ]
          },
          "metadata": {
            "tags": []
          }
        }
      ]
    },
    {
      "cell_type": "markdown",
      "metadata": {
        "id": "unT41O1X1d2a",
        "colab_type": "text"
      },
      "source": [
        "Models validation loss and training loss are both going down. This indicates that the model is not overfitting. "
      ]
    },
    {
      "cell_type": "markdown",
      "metadata": {
        "id": "Az9wAUPZ2V07",
        "colab_type": "text"
      },
      "source": [
        "#**Error Analysis**\n",
        "\n",
        "I tried building a confusion matrix but it wasn't working. "
      ]
    },
    {
      "cell_type": "code",
      "metadata": {
        "id": "ftgDaKdfStA4",
        "colab_type": "code",
        "colab": {}
      },
      "source": [
        "test_encoded = t.texts_to_matrix(test_data['ingredients'], mode = 'binary')"
      ],
      "execution_count": 0,
      "outputs": []
    },
    {
      "cell_type": "code",
      "metadata": {
        "id": "mn13LRP_S1YQ",
        "colab_type": "code",
        "outputId": "05366aea-d24c-472e-8ea2-ab854a93736a",
        "colab": {
          "base_uri": "https://localhost:8080/",
          "height": 424
        }
      },
      "source": [
        "model.load_weights('best-model-0.h5')\n",
        "predicted = model.predict(test_encoded).argmax(axis=1)\n",
        "predicted_df = pd.DataFrame(predicted)\n",
        "display(predicted_df)\n",
        "#display(test_data)\n",
        "results = []\n",
        "for i in predicted:\n",
        "  for k,v in index.items():\n",
        "    if v==i:\n",
        "      results.append(k)\n",
        "#print(results)\n",
        "test_list_id = (test_data['id'])\n",
        "result = pd.DataFrame(list(zip(test_data['id'], results)),columns=['id','cuisine'])\n",
        "result_id_df = (result['id'])\n"
      ],
      "execution_count": 54,
      "outputs": [
        {
          "output_type": "display_data",
          "data": {
            "text/html": [
              "<div>\n",
              "<style scoped>\n",
              "    .dataframe tbody tr th:only-of-type {\n",
              "        vertical-align: middle;\n",
              "    }\n",
              "\n",
              "    .dataframe tbody tr th {\n",
              "        vertical-align: top;\n",
              "    }\n",
              "\n",
              "    .dataframe thead th {\n",
              "        text-align: right;\n",
              "    }\n",
              "</style>\n",
              "<table border=\"1\" class=\"dataframe\">\n",
              "  <thead>\n",
              "    <tr style=\"text-align: right;\">\n",
              "      <th></th>\n",
              "      <th>0</th>\n",
              "    </tr>\n",
              "  </thead>\n",
              "  <tbody>\n",
              "    <tr>\n",
              "      <th>0</th>\n",
              "      <td>9</td>\n",
              "    </tr>\n",
              "    <tr>\n",
              "      <th>1</th>\n",
              "      <td>1</td>\n",
              "    </tr>\n",
              "    <tr>\n",
              "      <th>2</th>\n",
              "      <td>6</td>\n",
              "    </tr>\n",
              "    <tr>\n",
              "      <th>3</th>\n",
              "      <td>12</td>\n",
              "    </tr>\n",
              "    <tr>\n",
              "      <th>4</th>\n",
              "      <td>6</td>\n",
              "    </tr>\n",
              "    <tr>\n",
              "      <th>...</th>\n",
              "      <td>...</td>\n",
              "    </tr>\n",
              "    <tr>\n",
              "      <th>9939</th>\n",
              "      <td>14</td>\n",
              "    </tr>\n",
              "    <tr>\n",
              "      <th>9940</th>\n",
              "      <td>1</td>\n",
              "    </tr>\n",
              "    <tr>\n",
              "      <th>9941</th>\n",
              "      <td>6</td>\n",
              "    </tr>\n",
              "    <tr>\n",
              "      <th>9942</th>\n",
              "      <td>1</td>\n",
              "    </tr>\n",
              "    <tr>\n",
              "      <th>9943</th>\n",
              "      <td>7</td>\n",
              "    </tr>\n",
              "  </tbody>\n",
              "</table>\n",
              "<p>9944 rows × 1 columns</p>\n",
              "</div>"
            ],
            "text/plain": [
              "       0\n",
              "0      9\n",
              "1      1\n",
              "2      6\n",
              "3     12\n",
              "4      6\n",
              "...   ..\n",
              "9939  14\n",
              "9940   1\n",
              "9941   6\n",
              "9942   1\n",
              "9943   7\n",
              "\n",
              "[9944 rows x 1 columns]"
            ]
          },
          "metadata": {
            "tags": []
          }
        }
      ]
    },
    {
      "cell_type": "code",
      "metadata": {
        "id": "lePCi_tj_zDq",
        "colab_type": "code",
        "colab": {
          "base_uri": "https://localhost:8080/",
          "height": 549
        },
        "outputId": "e6645d6b-a4b5-4cbc-a0bd-e9fcf2bebbc0"
      },
      "source": [
        "confusionMatrix = confusion_matrix(test_list_id, result_id_df)\n",
        "plt.figure(figsize=(10,10))\n",
        "matrix_normilized = (confusionMatrix.astype('float'))/(confusionMatrix.sum(axis=1)[:, np.newaxis])\n",
        "plt.imshow(matrix_normilized, interpolation='nearest')\n",
        "plt.title(\"Confusion Matrix\")\n",
        "plt.colorbar(shrink=.5)\n",
        "cuisine_plt = train_data['cuisine'].value_counts().index\n",
        "tick_marks = np.arange(len(cuisine_plt))\n",
        "plt.xticks(tick_marks, cuisine_plt)\n",
        "plt.yticks(tick_marks, cuisine_plt)\n",
        "plt.tight_layout()\n",
        "plt.ylabel('True label')\n",
        "plt.xlabel('Predicted label')"
      ],
      "execution_count": 59,
      "outputs": [
        {
          "output_type": "execute_result",
          "data": {
            "text/plain": [
              "Text(0.5, 0, 'Predicted label')"
            ]
          },
          "metadata": {
            "tags": []
          },
          "execution_count": 59
        },
        {
          "output_type": "display_data",
          "data": {
            "image/png": "[encoded data removed]",
            "text/plain": [
              "<Figure size 720x720 with 2 Axes>"
            ]
          },
          "metadata": {
            "tags": []
          }
        }
      ]
    },
    {
      "cell_type": "code",
      "metadata": {
        "id": "oCKhxgtDTNcj",
        "colab_type": "code",
        "colab": {
          "base_uri": "https://localhost:8080/",
          "height": 424
        },
        "outputId": "4d32bf28-2ec3-4370-8311-2830d1089d6d"
      },
      "source": [
        "result = pd.DataFrame(list(zip(test_data['id'], results)),columns=['id','cuisine'])\n",
        "display(result)\n",
        "#result.to_csv('binaryresults.csv',index=False)\n",
        "#files.download('binaryresults.csv')"
      ],
      "execution_count": 22,
      "outputs": [
        {
          "output_type": "display_data",
          "data": {
            "text/html": [
              "<div>\n",
              "<style scoped>\n",
              "    .dataframe tbody tr th:only-of-type {\n",
              "        vertical-align: middle;\n",
              "    }\n",
              "\n",
              "    .dataframe tbody tr th {\n",
              "        vertical-align: top;\n",
              "    }\n",
              "\n",
              "    .dataframe thead th {\n",
              "        text-align: right;\n",
              "    }\n",
              "</style>\n",
              "<table border=\"1\" class=\"dataframe\">\n",
              "  <thead>\n",
              "    <tr style=\"text-align: right;\">\n",
              "      <th></th>\n",
              "      <th>id</th>\n",
              "      <th>cuisine</th>\n",
              "    </tr>\n",
              "  </thead>\n",
              "  <tbody>\n",
              "    <tr>\n",
              "      <th>0</th>\n",
              "      <td>18009</td>\n",
              "      <td>southern_us</td>\n",
              "    </tr>\n",
              "    <tr>\n",
              "      <th>1</th>\n",
              "      <td>28583</td>\n",
              "      <td>southern_us</td>\n",
              "    </tr>\n",
              "    <tr>\n",
              "      <th>2</th>\n",
              "      <td>41580</td>\n",
              "      <td>italian</td>\n",
              "    </tr>\n",
              "    <tr>\n",
              "      <th>3</th>\n",
              "      <td>29752</td>\n",
              "      <td>cajun_creole</td>\n",
              "    </tr>\n",
              "    <tr>\n",
              "      <th>4</th>\n",
              "      <td>35687</td>\n",
              "      <td>italian</td>\n",
              "    </tr>\n",
              "    <tr>\n",
              "      <th>...</th>\n",
              "      <td>...</td>\n",
              "      <td>...</td>\n",
              "    </tr>\n",
              "    <tr>\n",
              "      <th>9939</th>\n",
              "      <td>30246</td>\n",
              "      <td>southern_us</td>\n",
              "    </tr>\n",
              "    <tr>\n",
              "      <th>9940</th>\n",
              "      <td>36028</td>\n",
              "      <td>southern_us</td>\n",
              "    </tr>\n",
              "    <tr>\n",
              "      <th>9941</th>\n",
              "      <td>22339</td>\n",
              "      <td>italian</td>\n",
              "    </tr>\n",
              "    <tr>\n",
              "      <th>9942</th>\n",
              "      <td>42525</td>\n",
              "      <td>cajun_creole</td>\n",
              "    </tr>\n",
              "    <tr>\n",
              "      <th>9943</th>\n",
              "      <td>1443</td>\n",
              "      <td>mexican</td>\n",
              "    </tr>\n",
              "  </tbody>\n",
              "</table>\n",
              "<p>9944 rows × 2 columns</p>\n",
              "</div>"
            ],
            "text/plain": [
              "         id       cuisine\n",
              "0     18009   southern_us\n",
              "1     28583   southern_us\n",
              "2     41580       italian\n",
              "3     29752  cajun_creole\n",
              "4     35687       italian\n",
              "...     ...           ...\n",
              "9939  30246   southern_us\n",
              "9940  36028   southern_us\n",
              "9941  22339       italian\n",
              "9942  42525  cajun_creole\n",
              "9943   1443       mexican\n",
              "\n",
              "[9944 rows x 2 columns]"
            ]
          },
          "metadata": {
            "tags": []
          }
        }
      ]
    },
    {
      "cell_type": "markdown",
      "metadata": {
        "id": "0Q8y_KZ_2t8G",
        "colab_type": "text"
      },
      "source": [
        "#**Conclusion**\n",
        "\n",
        "In conclusion, Kaggle is giving me a score of .74869 which is much better than my baseline of .19267. Overall I think my model was successful. If I had more time I would probably convert it to a learned embeddings model. I would also fix the confusion matrix so I can do better error analysis. "
      ]
    }
  ]
}